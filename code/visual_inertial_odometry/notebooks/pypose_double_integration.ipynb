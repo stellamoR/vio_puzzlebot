{
 "cells": [
  {
   "cell_type": "markdown",
   "metadata": {},
   "source": [
    "# Pypose\n",
    "In diesem Notebook wird Pypose genutzt, um eine Position aus IMU-Daten zu berechnen"
   ]
  },
  {
   "cell_type": "code",
   "execution_count": 2,
   "metadata": {},
   "outputs": [],
   "source": [
    "import torch\n",
    "import numpy as np\n",
    "import pypose as pp\n",
    "import torch.utils.data as Data\n",
    "import matplotlib.pyplot as plt\n",
    "from matplotlib.patches import Ellipse\n",
    "from matplotlib.collections import PatchCollection"
   ]
  },
  {
   "cell_type": "code",
   "execution_count": 17,
   "metadata": {},
   "outputs": [],
   "source": [
    "class My_IMU(Data.Dataset):\n",
    "    def __init__(self, root, duration=2, step_size=2):\n",
    "        super().__init__()\n",
    "        self.duration = duration\n",
    "        \n",
    "        self.data = np.load(root)\n",
    "        self.seq_len = len(self.data) - 1\n",
    "\n",
    "        self.dt = torch.tensor([0.001 for i in range(self.seq_len)])\n",
    "\n",
    "        self.gyro = torch.tensor(self.data[:,3:6]).float()\n",
    "\n",
    "        self.acc = torch.tensor(self.data[:,:3]).float()\n",
    "\n",
    "        start_frame = 0\n",
    "        end_frame = self.seq_len\n",
    "\n",
    "\n",
    "        self.index_map = [i for i in range(\n",
    "            0, end_frame - start_frame - self.duration, step_size)]\n",
    "\n",
    "    def __len__(self):\n",
    "        return len(self.index_map)\n",
    "\n",
    "    def __getitem__(self, i):\n",
    "        frame_id = self.index_map[i]\n",
    "        end_frame_id = frame_id + self.duration\n",
    "        return {\n",
    "            'dt': self.dt[frame_id: end_frame_id],\n",
    "            'acc': self.acc[frame_id: end_frame_id],\n",
    "            'gyro': self.gyro[frame_id: end_frame_id],\n",
    "            'gyro': self.gyro[frame_id: end_frame_id],\n",
    "            'init_pos': torch.tensor([0,0,0])\n",
    "        }\n",
    "\n",
    "    def get_init_value(self):\n",
    "        return {'pos': torch.tensor([[0.,0.,0.]]),\n",
    "                'rot': pp.LieTensor([[0.1,0.1,-1,0.1]], ltype=pp.SO3_type),\n",
    "                #'rot': samplerot,\n",
    "                'vel': torch.tensor([0])}\n"
   ]
  },
  {
   "cell_type": "code",
   "execution_count": 9,
   "metadata": {},
   "outputs": [],
   "source": [
    "def imu_collate(data):\n",
    "    acc = torch.stack([d['acc'] for d in data])\n",
    "    gyro = torch.stack([d['gyro'] for d in data])\n",
    "    dt = torch.stack([d['dt'] for d in data]).unsqueeze(-1)\n",
    "\n",
    "    return {\n",
    "        'dt': dt,\n",
    "        'acc': acc,\n",
    "        'gyro': gyro,\n",
    "    }"
   ]
  },
  {
   "cell_type": "code",
   "execution_count": 10,
   "metadata": {},
   "outputs": [],
   "source": [
    "def move_to(obj, device):\n",
    "    if torch.is_tensor(obj):\n",
    "        return obj.to(device)\n",
    "    elif isinstance(obj, dict):\n",
    "        res = {}\n",
    "        for k, v in obj.items():\n",
    "            res[k] = move_to(v, device)\n",
    "        return res\n",
    "    elif isinstance(obj, list):\n",
    "        res = []\n",
    "        for v in obj:\n",
    "            res.append(move_to(v, device))\n",
    "        return res\n",
    "    else:\n",
    "        raise TypeError(\"Invalid type for move_to\", obj)"
   ]
  },
  {
   "cell_type": "code",
   "execution_count": 11,
   "metadata": {},
   "outputs": [],
   "source": [
    "def plot_gaussian(ax, means, covs, color=None, sigma=3):\n",
    "    ellipses = []\n",
    "    for i in range(len(means)):\n",
    "        eigvals, eigvecs = np.linalg.eig(covs[i])\n",
    "        axis = np.sqrt(eigvals) * sigma\n",
    "        slope = eigvecs[1][0] / eigvecs[1][1]\n",
    "        angle = 180.0 * np.arctan(slope) / np.pi\n",
    "        ellipses.append(Ellipse(means[i, 0:2], axis[0], axis[1], angle=angle))\n",
    "    ax.add_collection(PatchCollection(ellipses, edgecolors=color, linewidth=1))"
   ]
  },
  {
   "cell_type": "code",
   "execution_count": 19,
   "metadata": {},
   "outputs": [
    {
     "name": "stdout",
     "output_type": "stream",
     "text": [
      "Saved to ./data/rechtskurve.npy_poseplot.png\n"
     ]
    },
    {
     "data": {
      "image/png": "[encoded data removed]",
      "text/plain": [
       "<Figure size 500x500 with 1 Axes>"
      ]
     },
     "metadata": {},
     "output_type": "display_data"
    }
   ],
   "source": [
    "device = 'cpu' # 'cuda'\n",
    "data_path = './data/rechtskurve.npy'\n",
    "dataset = My_IMU(data_path)\n",
    "\n",
    "\n",
    "loader = Data.DataLoader(dataset=dataset,\n",
    "                            batch_size=1,\n",
    "                            collate_fn=imu_collate,\n",
    "                            shuffle=False)\n",
    "\n",
    "# step 2: Get the initial position, rotation and velocity, all 0 here\n",
    "init = dataset.get_init_value()\n",
    "\n",
    "integrator = pp.module.IMUPreintegrator(init['pos'],\n",
    "                                        init['rot'],\n",
    "                                        init['vel'],\n",
    "                                        reset=False).to(device)\n",
    "\n",
    "# step 3: Perform integration\n",
    "poses = [init['pos']]\n",
    "covs = [torch.zeros(9, 9)]\n",
    "\n",
    "for idx, data in enumerate(loader):\n",
    "    data = move_to(data, device)\n",
    "    state = integrator(dt=data['dt'],\n",
    "                        gyro=data['gyro'],\n",
    "                        acc=data['acc'],\n",
    "                        rot=torch.tensor([0,0,0]))\n",
    "    poses.append(state['pos'][..., -1, :].cpu())\n",
    "    covs.append(state['cov'][..., -1, :, :].cpu())\n",
    "\n",
    "poses = torch.cat(poses).numpy()\n",
    "covs = torch.stack(covs, dim=0).numpy()\n",
    "\n",
    "# step 4: Visualization\n",
    "plt.figure(figsize=(5, 5))\n",
    "\n",
    "ax = plt.axes()\n",
    "ax.plot(poses[:, 0], poses[:, 1], 'b')\n",
    "plot_gaussian(ax, poses[:, 0:2], covs[:, 6:8, 6:8])\n",
    "plt.title(\"PyPose IMU Integrator\")\n",
    "figure = data_path+ '_poseplot.png'\n",
    "plt.savefig(figure)\n",
    "print(\"Saved to\", figure)"
   ]
  },
  {
   "cell_type": "markdown",
   "metadata": {},
   "source": [
    "Das Ergebnis ist zwar nicht up to scale, aber ich sehe zum ersten Mal, dass die Kurve aus reinen IMU-Daten relativ genau abgebildet wird.\n",
    "\n",
    "Das Ergebnis ist wirklich deutlich besser als alles, was ich bisher probiert habe."
   ]
  }
 ],
 "metadata": {
  "kernelspec": {
   "display_name": "DatFusvenv",
   "language": "python",
   "name": "python3"
  },
  "language_info": {
   "codemirror_mode": {
    "name": "ipython",
    "version": 3
   },
   "file_extension": ".py",
   "mimetype": "text/x-python",
   "name": "python",
   "nbconvert_exporter": "python",
   "pygments_lexer": "ipython3",
   "version": "3.8.10"
  }
 },
 "nbformat": 4,
 "nbformat_minor": 2
}
